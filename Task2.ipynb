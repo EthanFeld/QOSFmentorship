{
  "nbformat": 4,
  "nbformat_minor": 0,
  "metadata": {
    "colab": {
      "provenance": []
    },
    "kernelspec": {
      "name": "python3",
      "display_name": "Python 3"
    },
    "language_info": {
      "name": "python"
    }
  },
  "cells": [
    {
      "cell_type": "code",
      "execution_count": 61,
      "metadata": {
        "colab": {
          "base_uri": "https://localhost:8080/"
        },
        "id": "fleknNAQNdt2",
        "outputId": "b29200ce-81c2-480e-c7fa-b04375f23a88"
      },
      "outputs": [
        {
          "output_type": "stream",
          "name": "stdout",
          "text": [
            "Requirement already satisfied: qiskit in /usr/local/lib/python3.10/dist-packages (1.2.4)\n",
            "Requirement already satisfied: rustworkx>=0.15.0 in /usr/local/lib/python3.10/dist-packages (from qiskit) (0.15.1)\n",
            "Requirement already satisfied: numpy<3,>=1.17 in /usr/local/lib/python3.10/dist-packages (from qiskit) (1.26.4)\n",
            "Requirement already satisfied: scipy>=1.5 in /usr/local/lib/python3.10/dist-packages (from qiskit) (1.13.1)\n",
            "Requirement already satisfied: sympy>=1.3 in /usr/local/lib/python3.10/dist-packages (from qiskit) (1.13.3)\n",
            "Requirement already satisfied: dill>=0.3 in /usr/local/lib/python3.10/dist-packages (from qiskit) (0.3.9)\n",
            "Requirement already satisfied: python-dateutil>=2.8.0 in /usr/local/lib/python3.10/dist-packages (from qiskit) (2.8.2)\n",
            "Requirement already satisfied: stevedore>=3.0.0 in /usr/local/lib/python3.10/dist-packages (from qiskit) (5.3.0)\n",
            "Requirement already satisfied: typing-extensions in /usr/local/lib/python3.10/dist-packages (from qiskit) (4.12.2)\n",
            "Requirement already satisfied: symengine<0.14,>=0.11 in /usr/local/lib/python3.10/dist-packages (from qiskit) (0.13.0)\n",
            "Requirement already satisfied: six>=1.5 in /usr/local/lib/python3.10/dist-packages (from python-dateutil>=2.8.0->qiskit) (1.16.0)\n",
            "Requirement already satisfied: pbr>=2.0.0 in /usr/local/lib/python3.10/dist-packages (from stevedore>=3.0.0->qiskit) (6.1.0)\n",
            "Requirement already satisfied: mpmath<1.4,>=1.1.0 in /usr/local/lib/python3.10/dist-packages (from sympy>=1.3->qiskit) (1.3.0)\n",
            "Requirement already satisfied: qiskit-aer in /usr/local/lib/python3.10/dist-packages (0.15.1)\n",
            "Requirement already satisfied: qiskit>=1.1.0 in /usr/local/lib/python3.10/dist-packages (from qiskit-aer) (1.2.4)\n",
            "Requirement already satisfied: numpy>=1.16.3 in /usr/local/lib/python3.10/dist-packages (from qiskit-aer) (1.26.4)\n",
            "Requirement already satisfied: scipy>=1.0 in /usr/local/lib/python3.10/dist-packages (from qiskit-aer) (1.13.1)\n",
            "Requirement already satisfied: psutil>=5 in /usr/local/lib/python3.10/dist-packages (from qiskit-aer) (5.9.5)\n",
            "Requirement already satisfied: rustworkx>=0.15.0 in /usr/local/lib/python3.10/dist-packages (from qiskit>=1.1.0->qiskit-aer) (0.15.1)\n",
            "Requirement already satisfied: sympy>=1.3 in /usr/local/lib/python3.10/dist-packages (from qiskit>=1.1.0->qiskit-aer) (1.13.3)\n",
            "Requirement already satisfied: dill>=0.3 in /usr/local/lib/python3.10/dist-packages (from qiskit>=1.1.0->qiskit-aer) (0.3.9)\n",
            "Requirement already satisfied: python-dateutil>=2.8.0 in /usr/local/lib/python3.10/dist-packages (from qiskit>=1.1.0->qiskit-aer) (2.8.2)\n",
            "Requirement already satisfied: stevedore>=3.0.0 in /usr/local/lib/python3.10/dist-packages (from qiskit>=1.1.0->qiskit-aer) (5.3.0)\n",
            "Requirement already satisfied: typing-extensions in /usr/local/lib/python3.10/dist-packages (from qiskit>=1.1.0->qiskit-aer) (4.12.2)\n",
            "Requirement already satisfied: symengine<0.14,>=0.11 in /usr/local/lib/python3.10/dist-packages (from qiskit>=1.1.0->qiskit-aer) (0.13.0)\n",
            "Requirement already satisfied: six>=1.5 in /usr/local/lib/python3.10/dist-packages (from python-dateutil>=2.8.0->qiskit>=1.1.0->qiskit-aer) (1.16.0)\n",
            "Requirement already satisfied: pbr>=2.0.0 in /usr/local/lib/python3.10/dist-packages (from stevedore>=3.0.0->qiskit>=1.1.0->qiskit-aer) (6.1.0)\n",
            "Requirement already satisfied: mpmath<1.4,>=1.1.0 in /usr/local/lib/python3.10/dist-packages (from sympy>=1.3->qiskit>=1.1.0->qiskit-aer) (1.3.0)\n"
          ]
        }
      ],
      "source": [
        "!pip install qiskit\n",
        "!pip install qiskit-aer"
      ]
    },
    {
      "cell_type": "code",
      "source": [
        "from qiskit import QuantumCircuit, transpile, QuantumRegister, ClassicalRegister\n",
        "from qiskit.circuit.library import RXGate, RZGate, XGate, IGate, SXGate, CXGate\n",
        "import numpy as np\n",
        "from qiskit_aer import Aer"
      ],
      "metadata": {
        "id": "beRTFTdneBEj"
      },
      "execution_count": 78,
      "outputs": []
    },
    {
      "cell_type": "markdown",
      "source": [
        "Part 1: Noise Model"
      ],
      "metadata": {
        "id": "WzDv-hxOZpvj"
      }
    },
    {
      "cell_type": "code",
      "source": [
        "\n",
        "\n",
        "\n",
        "def NoiseModel(alpha, beta, qc):\n",
        "    # Save the registers\n",
        "    noisy_qc = QuantumCircuit(*qc.qregs, *qc.cregs)\n",
        "\n",
        "    pauli_gates = ['x', 'y', 'z']\n",
        "\n",
        "    # Iterate over each instruction in the circuit\n",
        "    for inst, qargs, cargs in qc.data:\n",
        "        # Append the original instruction with the correct qubit and clbit references\n",
        "        noisy_qc.append(inst, qargs, cargs)\n",
        "\n",
        "        # Handles null case\n",
        "        if inst.name == 'measure':\n",
        "            continue\n",
        "\n",
        "        # Makes the ifs look nicer\n",
        "        num_qubits = len(qargs)\n",
        "\n",
        "        # For single-qubit gates\n",
        "        if num_qubits == 1:\n",
        "            if np.random.rand() < alpha:\n",
        "                #Random Pauli\n",
        "                pauli_gate = np.random.choice(pauli_gates)\n",
        "                qubit = qargs[0]\n",
        "                getattr(noisy_qc, pauli_gate)(qubit)\n",
        "\n",
        "        # For two-qubit gates\n",
        "        elif num_qubits == 2:\n",
        "            if np.random.rand() < beta:\n",
        "                #Random Pauli\n",
        "                for qubit in qargs:\n",
        "                    pauli_gate = np.random.choice(pauli_gates)\n",
        "                    getattr(noisy_qc, pauli_gate)(qubit)\n",
        "\n",
        "    return noisy_qc\n",
        "\n"
      ],
      "metadata": {
        "id": "3rw0IjpdNlAl"
      },
      "execution_count": 62,
      "outputs": []
    },
    {
      "cell_type": "markdown",
      "source": [],
      "metadata": {
        "id": "f-ANSEwUYCMN"
      }
    },
    {
      "cell_type": "code",
      "source": [
        "#Testing\n",
        "\n",
        "\n",
        "\n",
        "qc = QuantumCircuit(2, 2)\n",
        "qc.h(0)\n",
        "qc.cx(0, 1)\n",
        "qc.measure([0, 1], [0, 1])\n",
        "\n",
        "\n",
        "alpha = 0.1\n",
        "beta = 0.2\n",
        "\n",
        "# Apply the noise model\n",
        "noisy_qc = NoiseModel(alpha, beta, qc)\n",
        "\n",
        "\n",
        "print(\"Original Circuit:\")\n",
        "print(qc.draw())\n",
        "\n",
        "print(\"\\nNoisy Circuit:\")\n",
        "print(noisy_qc.draw())\n"
      ],
      "metadata": {
        "colab": {
          "base_uri": "https://localhost:8080/"
        },
        "id": "iuSD1n8zN93e",
        "outputId": "2a85cefe-c848-4b77-896b-394cca8a4445"
      },
      "execution_count": 63,
      "outputs": [
        {
          "output_type": "stream",
          "name": "stdout",
          "text": [
            "Original Circuit:\n",
            "     ┌───┐     ┌─┐   \n",
            "q_0: ┤ H ├──■──┤M├───\n",
            "     └───┘┌─┴─┐└╥┘┌─┐\n",
            "q_1: ─────┤ X ├─╫─┤M├\n",
            "          └───┘ ║ └╥┘\n",
            "c: 2/═══════════╩══╩═\n",
            "                0  1 \n",
            "\n",
            "Noisy Circuit:\n",
            "     ┌───┐     ┌─┐   \n",
            "q_0: ┤ H ├──■──┤M├───\n",
            "     └───┘┌─┴─┐└╥┘┌─┐\n",
            "q_1: ─────┤ X ├─╫─┤M├\n",
            "          └───┘ ║ └╥┘\n",
            "c: 2/═══════════╩══╩═\n",
            "                0  1 \n"
          ]
        }
      ]
    },
    {
      "cell_type": "code",
      "source": [
        "\n",
        "\n",
        "def decomposeCircuit(qc):\n",
        "    # Define the target basis gates\n",
        "    basis_gates = ['cx', 'id', 'rz', 'sx', 'x']\n",
        "\n",
        "    # Transpile the circuit to decompose it into the target basis gates\n",
        "    optimized_circuit = transpile(qc, basis_gates=basis_gates, optimization_level=3)\n",
        "\n",
        "    return optimized_circuit"
      ],
      "metadata": {
        "id": "N58zgXHlOH_d"
      },
      "execution_count": 64,
      "outputs": []
    },
    {
      "cell_type": "code",
      "source": [
        "\n",
        "\n",
        "# Create a sample quantum circuit\n",
        "qc = QuantumCircuit(2)\n",
        "qc.h(0)\n",
        "qc.cx(0, 1)\n",
        "qc.rz(0.5, 0)\n",
        "qc.rx(1.0, 1)\n",
        "\n",
        "print(\"Original Circuit:\")\n",
        "print(qc.draw())\n",
        "\n",
        "# Decompose the circuit into the target gate set\n",
        "optimized_qc = decomposeCircuit(qc)\n",
        "\n",
        "print(\"\\nDecomposed Circuit:\")\n",
        "print(optimized_qc.draw())\n"
      ],
      "metadata": {
        "colab": {
          "base_uri": "https://localhost:8080/"
        },
        "id": "vkB73kzzOYZU",
        "outputId": "cc52840d-eb61-4117-e44e-d118360b06e3"
      },
      "execution_count": 65,
      "outputs": [
        {
          "output_type": "stream",
          "name": "stdout",
          "text": [
            "Original Circuit:\n",
            "     ┌───┐     ┌─────────┐\n",
            "q_0: ┤ H ├──■──┤ Rz(0.5) ├\n",
            "     └───┘┌─┴─┐└┬───────┬┘\n",
            "q_1: ─────┤ X ├─┤ Rx(1) ├─\n",
            "          └───┘ └───────┘ \n",
            "\n",
            "Decomposed Circuit:\n",
            "     ┌─────────┐┌────┐┌────────────┐                                          »\n",
            "q_0: ┤ Rz(π/2) ├┤ √X ├┤ Rz(2.0708) ├──■───────────────────────────────────────»\n",
            "     └─────────┘└────┘└────────────┘┌─┴─┐┌─────────┐┌────┐┌────────────┐┌────┐»\n",
            "q_1: ───────────────────────────────┤ X ├┤ Rz(π/2) ├┤ √X ├┤ Rz(4.1416) ├┤ √X ├»\n",
            "                                    └───┘└─────────┘└────┘└────────────┘└────┘»\n",
            "«                 \n",
            "«q_0: ────────────\n",
            "«     ┌──────────┐\n",
            "«q_1: ┤ Rz(5π/2) ├\n",
            "«     └──────────┘\n"
          ]
        }
      ]
    },
    {
      "cell_type": "code",
      "source": [
        "def qft(num_qubits):\n",
        "    qs = [QuantumRegister(num_qubits)]\n",
        "    circuit = QuantumCircuit(*qs)\n",
        "    for j in reversed(range(num_qubits)):\n",
        "        circuit.h(j)\n",
        "        num_entanglements = max(0, j - max(0, j + 1 - num_qubits))\n",
        "        for k in reversed(range(j - num_entanglements, j)):\n",
        "          #chooses rotation from indecies difference\n",
        "                lam = np.pi * (2.0 ** (k - j))\n",
        "                circuit.cp(lam, j, k)\n",
        "    return circuit"
      ],
      "metadata": {
        "id": "LNtp64TlSOVZ"
      },
      "execution_count": 66,
      "outputs": []
    },
    {
      "cell_type": "code",
      "source": [
        "\n",
        "\n",
        "def integer_adder_circuit(a: int, b: int) -> QuantumCircuit:\n",
        "\n",
        "    #basically the qiskit implementation\n",
        "    # Step 1: Determine the number of qubits needed\n",
        "    max_int = max(a, b)\n",
        "    num_bits = max_int.bit_length() + 1  # +1 for potential overflow\n",
        "\n",
        "    # Create quantum registers\n",
        "    qr_a = QuantumRegister(num_bits, name='a')\n",
        "    qr_b = QuantumRegister(num_bits, name='b')\n",
        "    cr = ClassicalRegister(num_bits, name='result')\n",
        "\n",
        "    # Initialize the circuit\n",
        "    qc = QuantumCircuit(qr_a, qr_b, cr, name='AdderCircuit')\n",
        "\n",
        "    # Step 2: Encodes the numbers into registers\n",
        "    a_bin = format(a, f'0{num_bits}b')\n",
        "    b_bin = format(b, f'0{num_bits}b')\n",
        "\n",
        "    for i, bit in enumerate(reversed(a_bin)):\n",
        "        if bit == '1':\n",
        "            qc.x(qr_a[i])\n",
        "\n",
        "    for i, bit in enumerate(reversed(b_bin)):\n",
        "        if bit == '1':\n",
        "            qc.x(qr_b[i])\n",
        "\n",
        "    # Step 3: Apply the QFT to the 'b' register\n",
        "    qc.append(qft(num_bits).to_gate(), qr_b)\n",
        "\n",
        "    # Step 4: Perform controlled phase rotations\n",
        "    for i in range(num_bits):\n",
        "        for j in range(num_bits - i):\n",
        "            angle = np.pi / (2 ** j)\n",
        "            qc.cp(angle, qr_a[i], qr_b[i + j])\n",
        "\n",
        "    # Step 5: Apply the inverse QFT to the 'b' register\n",
        "    qc.append(qft(num_bits).inverse().to_gate(), qr_b)\n",
        "\n",
        "    # Step 6: Measure the 'b' register\n",
        "    qc.measure(qr_b, cr)\n",
        "\n",
        "    return qc\n",
        "\n",
        "#testing\n",
        "if __name__ == \"__main__\":\n",
        "    a = 10\n",
        "    b = 10\n",
        "    qc = integer_adder_circuit(a, b)\n",
        "\n",
        "\n",
        "    simulator = Aer.get_backend('qasm_simulator')\n",
        "\n",
        "    qc_compiled = transpile(qc, simulator)\n",
        "    job = simulator.run(qc_compiled, shots=1)\n",
        "    result = job.result()\n",
        "    counts = result.get_counts(qc_compiled)\n",
        "\n",
        "    # Get the sum from the binary\n",
        "    measured_sum_bin = max(counts, key=counts.get)\n",
        "    measured_sum = int(measured_sum_bin, 2)\n",
        "\n",
        "    print(f\"The sum of {a} and {b} is {measured_sum}.\")\n"
      ],
      "metadata": {
        "colab": {
          "base_uri": "https://localhost:8080/"
        },
        "id": "EpOMpdFCOc0z",
        "outputId": "2eca82c2-cf4e-40dd-b277-8c82ea6e4dfa"
      },
      "execution_count": 76,
      "outputs": [
        {
          "output_type": "stream",
          "name": "stdout",
          "text": [
            "The sum of 10 and 10 is 20.\n"
          ]
        }
      ]
    },
    {
      "cell_type": "code",
      "source": [
        "qc = integer_adder_circuit(a, b)\n",
        "qc2 = decomposeCircuit(qc)\n",
        "qc3 = NoiseModel(.9,.7,qc)\n",
        "\n",
        "simulator = Aer.get_backend('qasm_simulator')\n",
        "qc_compiled = transpile(qc3, simulator)\n",
        "job = simulator.run(qc_compiled, shots=1)\n",
        "result = job.result()\n",
        "counts = result.get_counts(qc_compiled)\n",
        "\n",
        "# Get the sum from the binary\n",
        "measured_sum_bin = max(counts, key=counts.get)\n",
        "measured_sum = int(measured_sum_bin, 2)\n",
        "print(f\"The sum of {a} and {b} is {measured_sum}.\")\n"
      ],
      "metadata": {
        "colab": {
          "base_uri": "https://localhost:8080/"
        },
        "id": "zYC9cxYZSEKy",
        "outputId": "f81e0c2e-4e5a-4b26-dbf6-f14240e2e42d"
      },
      "execution_count": 87,
      "outputs": [
        {
          "output_type": "stream",
          "name": "stdout",
          "text": [
            "The sum of 10 and 10 is 20.\n"
          ]
        }
      ]
    },
    {
      "cell_type": "markdown",
      "source": [
        "I could not get the noise model to alter the result but, it should change the final value for the addition. A lower gate depth would help keep the error from this low. Addtionally, multiple runs would help weed out errors. Higher gate depths increase the probability of a error occuring."
      ],
      "metadata": {
        "id": "4X7iy__efIgV"
      }
    }
  ]
}